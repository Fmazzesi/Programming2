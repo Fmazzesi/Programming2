{
 "cells": [
  {
   "cell_type": "code",
   "execution_count": null,
   "metadata": {},
   "outputs": [],
   "source": [
    "## FUNCTION 3\n",
    "\n",
    "def plot_acquisitions(acquisitions):\n",
    "    \n",
    "    '''\n",
    "\n",
    "    Takes in a list of dictionaries with information about firms and their acquisitions (output of the function acquisitions_data) and plots the acquisitions on a graph.\n",
    "    From left to right, the x axis represents the number of acquisition \"hops\" from the initial firm. \n",
    "    \n",
    "    Parameters:\n",
    "    acquisitions (list of dictionaries): list of dictionaries with information about firms and their acquisitions. You can get data structured this way running the function acquisitions_data from the same package as this one.\n",
    "    \n",
    "    '''\n",
    "\n",
    "\n",
    "    if type(acquisitions) != list:\n",
    "        return \"Please provide a list of dictionaries with information about firms and their acquisitions as input. You can get this data by running the function acquisitions_data in this same package. Use the default option df=False\"\n",
    "    \n",
    "    if type(acquisitions[0]) != dict:\n",
    "        return \"Please provide a list of dictionaries with information about firms and their acquisitions as input. You can get this data by running the function acquisitions_data in this same package. Use the default option df=False\"\n",
    "\n",
    "    if 'hops' in acquisitions[0] and type(acquisitions[0]['hops']) == int:\n",
    "        # create a dataframe with the acquisitions data\n",
    "        df = pd.DataFrame(acquisitions)\n",
    "\n",
    "        # add a colunm named y. For each different value of hops, assign to each record a value of y that goes from 0 upwards\n",
    "        df['y'] = df.groupby('hops').cumcount()\n",
    "\n",
    "        # add 0.2 to y to space the points from the x axis\n",
    "        df['y'] = df['y'] + 0.2\n",
    "\n",
    "        # create a plot\n",
    "        plt.figure(figsize=(15, 10))\n",
    "\n",
    "        # each point is a firm, with its name as label\n",
    "        for i in range(len(df)):\n",
    "            plt.text(df['hops'][i], df['y'][i], df['name'][i], ha='center', wrap=True)\n",
    "\n",
    "        #the size of the plot depends on the number of hops (for width) and the number of y (for height)\n",
    "        plt.xlim(0, df['hops'].max()+1)\n",
    "        plt.ylim(0, df['y'].max()+1)\n",
    "\n",
    "        #plot the points\n",
    "        plt.scatter(df['hops'], df['y'], alpha=0)\n",
    "\n",
    "        #add label of the x axis\n",
    "        plt.xlabel('Number of Hops')\n",
    "\n",
    "        #the x axis should have only integer values\n",
    "        plt.xticks(range(df['hops'].max()+1))\n",
    "\n",
    "        #add title\n",
    "        plt.title('Acquisitions')\n",
    "\n",
    "        #hide the y axis ticks\n",
    "        plt.yticks([])\n",
    "\n",
    "        #hide the borders\n",
    "        plt.box(False)\n",
    "\n",
    "        #show the plot\n",
    "        plt.show()\n",
    "    else:\n",
    "        return \"Please provide a list of dictionaries with information about firms and their acquisitions as input. You can get this data by running the function acquisitions_data in this same package. Use the default option df=False\"\n",
    "    "
   ]
  },
  {
   "cell_type": "code",
   "execution_count": null,
   "metadata": {},
   "outputs": [],
   "source": [
    "##EXAMPLE FUNCTION 3\n",
    "plot_acquisitions(a)\n"
   ]
  }
 ],
 "metadata": {
  "kernelspec": {
   "display_name": "base",
   "language": "python",
   "name": "python3"
  },
  "language_info": {
   "codemirror_mode": {
    "name": "ipython",
    "version": 3
   },
   "file_extension": ".py",
   "mimetype": "text/x-python",
   "name": "python",
   "nbconvert_exporter": "python",
   "pygments_lexer": "ipython3",
   "version": "3.11.5"
  }
 },
 "nbformat": 4,
 "nbformat_minor": 2
}
